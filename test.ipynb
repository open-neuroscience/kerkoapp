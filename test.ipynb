{
 "cells": [
  {
   "cell_type": "code",
   "execution_count": 25,
   "metadata": {},
   "outputs": [],
   "source": [
    "from environs import Env\n",
    "from pyzotero import zotero\n",
    "\n",
    "\n",
    "env = Env()\n",
    "env.read_env()\n",
    "apiKey = env.str('KERKO_ZOTERO_API_KEY')\n",
    "libKey = env.str('KERKO_ZOTERO_LIBRARY_ID')\n",
    "zot = zotero.Zotero(libKey, 'group',api_key=apiKey,locale= 'en-GB')\n",
    "\n"
   ]
  },
  {
   "cell_type": "code",
   "execution_count": 30,
   "metadata": {},
   "outputs": [
    {
     "name": "stdout",
     "output_type": "stream",
     "text": [
      "key: SF796S8K\n"
     ]
    },
    {
     "ename": "KeyError",
     "evalue": "'name'",
     "output_type": "error",
     "traceback": [
      "\u001b[0;31m---------------------------------------------------------------------------\u001b[0m",
      "\u001b[0;31mKeyError\u001b[0m                                  Traceback (most recent call last)",
      "\u001b[0;32m<ipython-input-30-b0a840e81b0e>\u001b[0m in \u001b[0;36m<module>\u001b[0;34m\u001b[0m\n\u001b[1;32m      3\u001b[0m \u001b[0;32mfor\u001b[0m \u001b[0mitem\u001b[0m \u001b[0;32min\u001b[0m \u001b[0mcollections\u001b[0m\u001b[0;34m:\u001b[0m\u001b[0;34m\u001b[0m\u001b[0;34m\u001b[0m\u001b[0m\n\u001b[1;32m      4\u001b[0m     \u001b[0mprint\u001b[0m\u001b[0;34m(\u001b[0m\u001b[0;34m\"key: \"\u001b[0m\u001b[0;34m+\u001b[0m \u001b[0mitem\u001b[0m\u001b[0;34m[\u001b[0m\u001b[0;34m\"key\"\u001b[0m\u001b[0;34m]\u001b[0m\u001b[0;34m)\u001b[0m\u001b[0;34m\u001b[0m\u001b[0;34m\u001b[0m\u001b[0m\n\u001b[0;32m----> 5\u001b[0;31m     \u001b[0mprint\u001b[0m\u001b[0;34m(\u001b[0m\u001b[0;34m\"name: \"\u001b[0m\u001b[0;34m+\u001b[0m \u001b[0mitem\u001b[0m\u001b[0;34m[\u001b[0m\u001b[0;34m\"name\"\u001b[0m\u001b[0;34m]\u001b[0m\u001b[0;34m)\u001b[0m\u001b[0;34m\u001b[0m\u001b[0;34m\u001b[0m\u001b[0m\n\u001b[0m",
      "\u001b[0;31mKeyError\u001b[0m: 'name'"
     ]
    }
   ],
   "source": [
    "#first2=zot.items(limit=2)\n",
    "collections = zot.all_collections()\n"
   ]
  },
  {
   "cell_type": "code",
   "execution_count": 54,
   "metadata": {},
   "outputs": [
    {
     "name": "stdout",
     "output_type": "stream",
     "text": [
      "SF796S8K\n",
      "other\n",
      "NC2HRG88\n",
      "main_areas\n",
      "BXSDS9PK\n",
      "cell_types\n",
      "I2DXCS7M\n",
      "Type\n",
      "KPVJRAE9\n",
      "animal model\n"
     ]
    }
   ],
   "source": [
    "for item in collections:\n",
    "    if item[\"data\"][\"parentCollection\"]==False:\n",
    "        print(item[\"data\"][\"key\"])\n",
    "        print(item[\"data\"][\"name\"])\n",
    "    #print(\"name: \"+ item[\"data\"][\"name\"])"
   ]
  },
  {
   "cell_type": "code",
   "execution_count": 53,
   "metadata": {},
   "outputs": [
    {
     "data": {
      "text/plain": [
       "{'key': 'ZWVM2ZIS',\n",
       " 'version': 82,\n",
       " 'library': {'type': 'group',\n",
       "  'id': 4584648,\n",
       "  'name': 'retina-papers',\n",
       "  'links': {'alternate': {'href': 'https://www.zotero.org/groups/retina-papers',\n",
       "    'type': 'text/html'}}},\n",
       " 'links': {'self': {'href': 'https://api.zotero.org/groups/4584648/collections/ZWVM2ZIS',\n",
       "   'type': 'application/json'},\n",
       "  'alternate': {'href': 'https://www.zotero.org/groups/retina-papers/collections/ZWVM2ZIS',\n",
       "   'type': 'text/html'},\n",
       "  'up': {'href': 'https://api.zotero.org/groups/4584648/collections/NC2HRG88',\n",
       "   'type': 'application/json'}},\n",
       " 'meta': {'numCollections': 0, 'numItems': 0},\n",
       " 'data': {'key': 'ZWVM2ZIS',\n",
       "  'version': 82,\n",
       "  'name': 'other',\n",
       "  'parentCollection': 'NC2HRG88',\n",
       "  'relations': {}}}"
      ]
     },
     "execution_count": 53,
     "metadata": {},
     "output_type": "execute_result"
    }
   ],
   "source": [
    "collections[2]"
   ]
  },
  {
   "cell_type": "code",
   "execution_count": 52,
   "metadata": {},
   "outputs": [
    {
     "data": {
      "text/plain": [
       "33"
      ]
     },
     "execution_count": 52,
     "metadata": {},
     "output_type": "execute_result"
    }
   ],
   "source": [
    "len(collections)"
   ]
  },
  {
   "cell_type": "code",
   "execution_count": null,
   "metadata": {},
   "outputs": [],
   "source": []
  }
 ],
 "metadata": {
  "interpreter": {
   "hash": "8abf625e542ff33194dd4502f291ce11b7bf8daed732e6d5f31b5a030b27ce17"
  },
  "kernelspec": {
   "display_name": "Python 3.8.3 ('base')",
   "language": "python",
   "name": "python3"
  },
  "language_info": {
   "codemirror_mode": {
    "name": "ipython",
    "version": 3
   },
   "file_extension": ".py",
   "mimetype": "text/x-python",
   "name": "python",
   "nbconvert_exporter": "python",
   "pygments_lexer": "ipython3",
   "version": "3.8.3"
  },
  "orig_nbformat": 4
 },
 "nbformat": 4,
 "nbformat_minor": 2
}
